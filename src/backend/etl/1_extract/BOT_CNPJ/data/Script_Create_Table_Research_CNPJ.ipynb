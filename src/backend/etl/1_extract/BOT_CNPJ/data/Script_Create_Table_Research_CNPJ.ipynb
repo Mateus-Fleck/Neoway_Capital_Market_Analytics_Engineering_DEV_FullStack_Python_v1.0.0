{
 "cells": [
  {
   "cell_type": "markdown",
   "metadata": {},
   "source": [
    "# DET_TEST_BOT_RESEARCH_CNPJ\n"
   ]
  },
  {
   "cell_type": "code",
   "execution_count": 1,
   "metadata": {},
   "outputs": [
    {
     "name": "stdout",
     "output_type": "stream",
     "text": [
      "Novo arquivo CSV salvo em: C:/Neoway/Neoway_Capital_Market_Analytics_Engineering_DEV_FullStack_Python_v1.0.0/src/backend/etl/1_extract/BOT_CNPJ/data\\research_cnpj.csv\n"
     ]
    }
   ],
   "source": [
    "import pandas as pd\n",
    "import os\n",
    "\n",
    "# Definir os caminhos dos arquivos e diretórios\n",
    "input_csv_path = 'C:/Neoway/Neoway_Capital_Market_Analytics_Engineering_DEV_FullStack_Python_v1.0.0/src/backend/data/1_raw/raw_wallet_br.csv'\n",
    "output_dir = 'C:/Neoway/Neoway_Capital_Market_Analytics_Engineering_DEV_FullStack_Python_v1.0.0/src/backend/etl/1_extract/BOT_CNPJ/data'\n",
    "output_csv_path = os.path.join(output_dir, 'research_cnpj.csv')\n",
    "\n",
    "# Certificar-se de que o diretório de saída existe\n",
    "os.makedirs(output_dir, exist_ok=True)\n",
    "\n",
    "# Verificar se o arquivo CSV de entrada existe\n",
    "if not os.path.isfile(input_csv_path):\n",
    "    raise FileNotFoundError(f'O arquivo {input_csv_path} não foi encontrado. Verifique o caminho.')\n",
    "\n",
    "# Ler o arquivo CSV original\n",
    "df = pd.read_csv(input_csv_path)\n",
    "\n",
    "# Extrair a coluna 'research_cnpj'\n",
    "df_cnpj = df[['research_cnpj']]\n",
    "\n",
    "# Salvar o novo DataFrame em um novo arquivo CSV sem cabeçalho\n",
    "df_cnpj.to_csv(output_csv_path, index=False, header=False)\n",
    "\n",
    "print(f'Novo arquivo CSV salvo em: {output_csv_path}')\n"
   ]
  }
 ],
 "metadata": {
  "kernelspec": {
   "display_name": ".venv",
   "language": "python",
   "name": "python3"
  },
  "language_info": {
   "codemirror_mode": {
    "name": "ipython",
    "version": 3
   },
   "file_extension": ".py",
   "mimetype": "text/x-python",
   "name": "python",
   "nbconvert_exporter": "python",
   "pygments_lexer": "ipython3",
   "version": "3.11.5"
  }
 },
 "nbformat": 4,
 "nbformat_minor": 2
}
